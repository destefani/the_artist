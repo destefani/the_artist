{
 "metadata": {
  "language_info": {
   "codemirror_mode": {
    "name": "ipython",
    "version": 3
   },
   "file_extension": ".py",
   "mimetype": "text/x-python",
   "name": "python",
   "nbconvert_exporter": "python",
   "pygments_lexer": "ipython3",
   "version": "3.8.5"
  },
  "orig_nbformat": 2,
  "kernelspec": {
   "name": "python385jvsc74a57bd0dca0ade3e726a953b501b15e8e990130d2b7799f14cfd9f4271676035ebe5511",
   "display_name": "Python 3.8.5 64-bit ('anaconda3': virtualenv)"
  }
 },
 "nbformat": 4,
 "nbformat_minor": 2,
 "cells": [
  {
   "source": [
    "# Gan Discriminator Example"
   ],
   "cell_type": "markdown",
   "metadata": {}
  },
  {
   "cell_type": "code",
   "execution_count": 222,
   "metadata": {},
   "outputs": [],
   "source": [
    "import torch\n",
    "from torch import nn\n",
    "import torch.nn.functional as F"
   ]
  },
  {
   "cell_type": "code",
   "execution_count": 223,
   "metadata": {},
   "outputs": [],
   "source": [
    "# Number of channels in the training images. For color images this is 3\n",
    "nc = 3\n",
    "\n",
    "# Size of z latent vector (i.e. size of generator input)\n",
    "nz = 100\n",
    "\n",
    "# Size of feature maps in generator\n",
    "ngf = 64\n",
    "\n",
    "# Size of feature maps in discriminator\n",
    "ndf = 128\n"
   ]
  },
  {
   "cell_type": "code",
   "execution_count": 224,
   "metadata": {},
   "outputs": [
    {
     "output_type": "execute_result",
     "data": {
      "text/plain": [
       "torch.Size([1, 3, 128, 128])"
      ]
     },
     "metadata": {},
     "execution_count": 224
    }
   ],
   "source": [
    "tensor = torch.randn(1, nc, 128, 128)\n",
    "tensor.shape"
   ]
  },
  {
   "cell_type": "code",
   "execution_count": 225,
   "metadata": {},
   "outputs": [
    {
     "output_type": "execute_result",
     "data": {
      "text/plain": [
       "torch.Size([1, 128, 64, 64])"
      ]
     },
     "metadata": {},
     "execution_count": 225
    }
   ],
   "source": [
    "conv1 = nn.Conv2d(in_channels=nc, out_channels=ndf, kernel_size=4, stride=2, padding=1, bias=False)\n",
    "tensor = conv1(tensor)\n",
    "tensor.shape"
   ]
  },
  {
   "cell_type": "code",
   "execution_count": 226,
   "metadata": {},
   "outputs": [
    {
     "output_type": "execute_result",
     "data": {
      "text/plain": [
       "torch.Size([1, 128, 64, 64])"
      ]
     },
     "metadata": {},
     "execution_count": 226
    }
   ],
   "source": [
    "tensor = F.leaky_relu(tensor, negative_slope=0.2)\n",
    "tensor.shape"
   ]
  },
  {
   "cell_type": "code",
   "execution_count": 227,
   "metadata": {},
   "outputs": [
    {
     "output_type": "execute_result",
     "data": {
      "text/plain": [
       "torch.Size([1, 256, 32, 32])"
      ]
     },
     "metadata": {},
     "execution_count": 227
    }
   ],
   "source": [
    "conv2 = nn.Conv2d(in_channels=ndf, out_channels=(ndf * 2), kernel_size=4, stride=2, padding=1, bias=False)\n",
    "tensor = conv2(tensor)\n",
    "tensor.shape"
   ]
  },
  {
   "cell_type": "code",
   "execution_count": 228,
   "metadata": {},
   "outputs": [
    {
     "output_type": "execute_result",
     "data": {
      "text/plain": [
       "torch.Size([1, 256, 32, 32])"
      ]
     },
     "metadata": {},
     "execution_count": 228
    }
   ],
   "source": [
    "batch_norm2 = nn.BatchNorm2d(num_features=(ndf * 2))\n",
    "tensor = batch_norm2(tensor)\n",
    "tensor.shape"
   ]
  },
  {
   "cell_type": "code",
   "execution_count": 229,
   "metadata": {},
   "outputs": [
    {
     "output_type": "execute_result",
     "data": {
      "text/plain": [
       "torch.Size([1, 256, 32, 32])"
      ]
     },
     "metadata": {},
     "execution_count": 229
    }
   ],
   "source": [
    "tensor = F.leaky_relu(tensor, negative_slope=0.2)\n",
    "tensor.shape"
   ]
  },
  {
   "cell_type": "code",
   "execution_count": 230,
   "metadata": {},
   "outputs": [
    {
     "output_type": "execute_result",
     "data": {
      "text/plain": [
       "torch.Size([1, 512, 16, 16])"
      ]
     },
     "metadata": {},
     "execution_count": 230
    }
   ],
   "source": [
    "conv3 = nn.Conv2d(in_channels=(ndf * 2), out_channels=(ndf * 4), kernel_size=4, stride=2, padding=1, bias=False)\n",
    "tensor = conv3(tensor)\n",
    "tensor.shape"
   ]
  },
  {
   "cell_type": "code",
   "execution_count": 231,
   "metadata": {},
   "outputs": [
    {
     "output_type": "execute_result",
     "data": {
      "text/plain": [
       "torch.Size([1, 512, 16, 16])"
      ]
     },
     "metadata": {},
     "execution_count": 231
    }
   ],
   "source": [
    "batch_norm3 = nn.BatchNorm2d(num_features=(ndf * 4))\n",
    "tensor = batch_norm3(tensor)\n",
    "tensor.shape"
   ]
  },
  {
   "cell_type": "code",
   "execution_count": 232,
   "metadata": {},
   "outputs": [
    {
     "output_type": "execute_result",
     "data": {
      "text/plain": [
       "torch.Size([1, 512, 16, 16])"
      ]
     },
     "metadata": {},
     "execution_count": 232
    }
   ],
   "source": [
    "tensor = F.leaky_relu(tensor, negative_slope=0.2)\n",
    "tensor.shape"
   ]
  },
  {
   "cell_type": "code",
   "execution_count": 233,
   "metadata": {},
   "outputs": [
    {
     "output_type": "execute_result",
     "data": {
      "text/plain": [
       "torch.Size([1, 1024, 8, 8])"
      ]
     },
     "metadata": {},
     "execution_count": 233
    }
   ],
   "source": [
    "conv4 = nn.Conv2d(in_channels=(ndf * 4), out_channels=(ndf * 8), kernel_size=4, stride=2, padding=1, bias=False)\n",
    "tensor = conv4(tensor)\n",
    "tensor.shape"
   ]
  },
  {
   "cell_type": "code",
   "execution_count": 234,
   "metadata": {},
   "outputs": [
    {
     "output_type": "execute_result",
     "data": {
      "text/plain": [
       "torch.Size([1, 1024, 8, 8])"
      ]
     },
     "metadata": {},
     "execution_count": 234
    }
   ],
   "source": [
    "batch_norm4 = nn.BatchNorm2d(num_features=(ndf * 8))\n",
    "tensor = batch_norm4(tensor)\n",
    "tensor.shape"
   ]
  },
  {
   "cell_type": "code",
   "execution_count": 235,
   "metadata": {},
   "outputs": [
    {
     "output_type": "execute_result",
     "data": {
      "text/plain": [
       "torch.Size([1, 1024, 8, 8])"
      ]
     },
     "metadata": {},
     "execution_count": 235
    }
   ],
   "source": [
    "tensor = F.leaky_relu(tensor, negative_slope=0.2)\n",
    "tensor.shape"
   ]
  },
  {
   "cell_type": "code",
   "execution_count": 236,
   "metadata": {},
   "outputs": [
    {
     "output_type": "execute_result",
     "data": {
      "text/plain": [
       "torch.Size([1, 2048, 4, 4])"
      ]
     },
     "metadata": {},
     "execution_count": 236
    }
   ],
   "source": [
    "conv5 = nn.Conv2d(in_channels=(ndf * 8), out_channels=(ndf * 16), kernel_size=4, stride=2, padding=1, bias=False)\n",
    "tensor = conv5(tensor)\n",
    "tensor.shape"
   ]
  },
  {
   "cell_type": "code",
   "execution_count": 237,
   "metadata": {},
   "outputs": [
    {
     "output_type": "execute_result",
     "data": {
      "text/plain": [
       "torch.Size([1, 2048, 4, 4])"
      ]
     },
     "metadata": {},
     "execution_count": 237
    }
   ],
   "source": [
    "batch_norm5 = nn.BatchNorm2d(num_features=(ndf * 16))\n",
    "tensor = batch_norm5(tensor)\n",
    "tensor.shape"
   ]
  },
  {
   "cell_type": "code",
   "execution_count": 238,
   "metadata": {},
   "outputs": [
    {
     "output_type": "execute_result",
     "data": {
      "text/plain": [
       "torch.Size([1, 2048, 4, 4])"
      ]
     },
     "metadata": {},
     "execution_count": 238
    }
   ],
   "source": [
    "tensor = F.leaky_relu(tensor, negative_slope=0.2)\n",
    "tensor.shape"
   ]
  },
  {
   "cell_type": "code",
   "execution_count": 239,
   "metadata": {},
   "outputs": [
    {
     "output_type": "execute_result",
     "data": {
      "text/plain": [
       "torch.Size([1, 1, 1, 1])"
      ]
     },
     "metadata": {},
     "execution_count": 239
    }
   ],
   "source": [
    "conv6 = nn.Conv2d(in_channels=(ndf * 16), out_channels=1, kernel_size=4, stride=1, padding=0, bias=False)\n",
    "tensor = conv7(tensor)\n",
    "tensor.shape"
   ]
  },
  {
   "cell_type": "code",
   "execution_count": 240,
   "metadata": {},
   "outputs": [
    {
     "output_type": "execute_result",
     "data": {
      "text/plain": [
       "torch.Size([1, 1, 1, 1])"
      ]
     },
     "metadata": {},
     "execution_count": 240
    }
   ],
   "source": [
    "sigmoid = nn.Sigmoid()\n",
    "tensor = sigmoid(tensor)\n",
    "tensor.shape"
   ]
  },
  {
   "cell_type": "code",
   "execution_count": 241,
   "metadata": {},
   "outputs": [
    {
     "output_type": "execute_result",
     "data": {
      "text/plain": [
       "tensor([[[[0.5113]]]], grad_fn=<SigmoidBackward>)"
      ]
     },
     "metadata": {},
     "execution_count": 241
    }
   ],
   "source": [
    "tensor"
   ]
  }
 ]
}
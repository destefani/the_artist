{
 "metadata": {
  "language_info": {
   "codemirror_mode": {
    "name": "ipython",
    "version": 3
   },
   "file_extension": ".py",
   "mimetype": "text/x-python",
   "name": "python",
   "nbconvert_exporter": "python",
   "pygments_lexer": "ipython3",
   "version": "3.8.5"
  },
  "orig_nbformat": 2,
  "kernelspec": {
   "name": "python385jvsc74a57bd0dca0ade3e726a953b501b15e8e990130d2b7799f14cfd9f4271676035ebe5511",
   "display_name": "Python 3.8.5 64-bit ('anaconda3': virtualenv)"
  }
 },
 "nbformat": 4,
 "nbformat_minor": 2,
 "cells": [
  {
   "source": [
    "## Convolutional Autoencoder"
   ],
   "cell_type": "markdown",
   "metadata": {}
  },
  {
   "cell_type": "code",
   "execution_count": 199,
   "metadata": {},
   "outputs": [],
   "source": [
    "import torch\n",
    "from torch import nn\n",
    "import torch.nn.functional as F\n",
    "from torchvision import datasets, transforms\n",
    "\n",
    "import matplotlib.pyplot as plt\n",
    "%matplotlib inline"
   ]
  },
  {
   "cell_type": "code",
   "execution_count": 200,
   "metadata": {},
   "outputs": [],
   "source": [
    "# Random Tensor \n",
    "# tensor = torch.randn(1, 6, 64, 64)\n",
    "# tensor.shape"
   ]
  },
  {
   "cell_type": "code",
   "execution_count": 201,
   "metadata": {},
   "outputs": [
    {
     "output_type": "execute_result",
     "data": {
      "text/plain": [
       "torch.Size([1, 6, 64, 64])"
      ]
     },
     "metadata": {},
     "execution_count": 201
    }
   ],
   "source": [
    "# Load Image\n",
    "\n",
    "transform = transforms.Compose([\n",
    "    transforms.Resize(128),\n",
    "    transforms.ToTensor(),\n",
    "    transforms.Normalize(\n",
    "            mean=[0.3810, 0.4527, 0.5128],\n",
    "            std=[0.2663, 0.2693, 0.2771])\n",
    "])\n",
    "\n",
    "dataset = datasets.ImageFolder('data', transform=transform)\n",
    "\n",
    "image, label = next(iter(dataset))\n",
    "\n",
    "uper_image = image[:, :64, 64:]\n",
    "left_image = image[:, 64:, :64]\n",
    "\n",
    "tensor = torch.cat((uper_image, left_image), dim=0).unsqueeze(0)\n",
    "tensor.shape"
   ]
  },
  {
   "cell_type": "code",
   "execution_count": 202,
   "metadata": {},
   "outputs": [],
   "source": [
    "# Laten vector\n",
    "nz = 200"
   ]
  },
  {
   "cell_type": "code",
   "execution_count": 203,
   "metadata": {},
   "outputs": [
    {
     "output_type": "execute_result",
     "data": {
      "text/plain": [
       "torch.Size([1, 64, 32, 32])"
      ]
     },
     "metadata": {},
     "execution_count": 203
    }
   ],
   "source": [
    "conv1 = nn.Conv2d(in_channels=6, out_channels=64, kernel_size=4, stride=2, padding=1, bias=False)\n",
    "tensor = conv1(tensor)\n",
    "tensor = F.leaky_relu(tensor, negative_slope=0.2)\n",
    "tensor.shape"
   ]
  },
  {
   "cell_type": "code",
   "execution_count": 204,
   "metadata": {},
   "outputs": [
    {
     "output_type": "execute_result",
     "data": {
      "text/plain": [
       "torch.Size([1, 128, 16, 16])"
      ]
     },
     "metadata": {},
     "execution_count": 204
    }
   ],
   "source": [
    "conv2 = nn.Conv2d(in_channels=64, out_channels=(64 * 2), kernel_size=4, stride=2, padding=1, bias=False)\n",
    "tensor = conv2(tensor)\n",
    "batch_norm2 = nn.BatchNorm2d(num_features=(64 * 2))\n",
    "tensor = batch_norm2(tensor)\n",
    "tensor = F.leaky_relu(tensor, negative_slope=0.2)\n",
    "tensor.shape"
   ]
  },
  {
   "cell_type": "code",
   "execution_count": 205,
   "metadata": {},
   "outputs": [
    {
     "output_type": "execute_result",
     "data": {
      "text/plain": [
       "torch.Size([1, 256, 8, 8])"
      ]
     },
     "metadata": {},
     "execution_count": 205
    }
   ],
   "source": [
    "conv3 = nn.Conv2d(in_channels=(64 * 2), out_channels=(64 * 4), kernel_size=4, stride=2, padding=1, bias=False)\n",
    "tensor = conv3(tensor)\n",
    "batch_norm3 = nn.BatchNorm2d(num_features=(64 * 4))\n",
    "tensor = batch_norm3(tensor)\n",
    "tensor = F.leaky_relu(tensor, negative_slope=0.2)\n",
    "tensor.shape"
   ]
  },
  {
   "cell_type": "code",
   "execution_count": 206,
   "metadata": {},
   "outputs": [
    {
     "output_type": "execute_result",
     "data": {
      "text/plain": [
       "torch.Size([1, 512, 4, 4])"
      ]
     },
     "metadata": {},
     "execution_count": 206
    }
   ],
   "source": [
    "conv4 = nn.Conv2d(in_channels=(64 * 4), out_channels=(64 * 8), kernel_size=4, stride=2, padding=1, bias=False)\n",
    "tensor = conv4(tensor)\n",
    "batch_norm4 = nn.BatchNorm2d(num_features=(64 * 8))\n",
    "tensor = batch_norm4(tensor)\n",
    "tensor = F.leaky_relu(tensor, negative_slope=0.2)\n",
    "tensor.shape\n",
    "\n"
   ]
  },
  {
   "cell_type": "code",
   "execution_count": 207,
   "metadata": {},
   "outputs": [
    {
     "output_type": "execute_result",
     "data": {
      "text/plain": [
       "torch.Size([1, 1024, 2, 2])"
      ]
     },
     "metadata": {},
     "execution_count": 207
    }
   ],
   "source": [
    "conv5 = nn.Conv2d(in_channels=(64 * 8), out_channels=(64 * 16), kernel_size=4, stride=2, padding=1, bias=False)\n",
    "tensor = conv5(tensor)\n",
    "batch_norm5 = nn.BatchNorm2d(num_features=(64 * 16))\n",
    "tensor = batch_norm5(tensor)\n",
    "tensor = F.leaky_relu(tensor, negative_slope=0.2)\n",
    "tensor.shape\n"
   ]
  },
  {
   "cell_type": "code",
   "execution_count": 208,
   "metadata": {},
   "outputs": [
    {
     "output_type": "execute_result",
     "data": {
      "text/plain": [
       "torch.Size([1, 4096])"
      ]
     },
     "metadata": {},
     "execution_count": 208
    }
   ],
   "source": [
    "tensor = torch.flatten(tensor, start_dim=1)\n",
    "tensor.shape"
   ]
  },
  {
   "cell_type": "code",
   "execution_count": 209,
   "metadata": {},
   "outputs": [
    {
     "output_type": "execute_result",
     "data": {
      "text/plain": [
       "torch.Size([1, 200])"
      ]
     },
     "metadata": {},
     "execution_count": 209
    }
   ],
   "source": [
    "fc = nn.Linear(in_features=4096, out_features=nz)\n",
    "tensor = fc(tensor)\n",
    "tensor.shape"
   ]
  },
  {
   "cell_type": "code",
   "execution_count": 210,
   "metadata": {},
   "outputs": [
    {
     "output_type": "execute_result",
     "data": {
      "text/plain": [
       "torch.Size([1, 200, 1, 1])"
      ]
     },
     "metadata": {},
     "execution_count": 210
    }
   ],
   "source": [
    "tensor = tensor.unsqueeze(2).unsqueeze(2)\n",
    "tensor.shape"
   ]
  },
  {
   "cell_type": "code",
   "execution_count": 211,
   "metadata": {},
   "outputs": [
    {
     "output_type": "execute_result",
     "data": {
      "text/plain": [
       "torch.Size([1, 512, 4, 4])"
      ]
     },
     "metadata": {},
     "execution_count": 211
    }
   ],
   "source": [
    "d_conv1 = nn.ConvTranspose2d(in_channels=nz, out_channels=(64 * 8), kernel_size=4, stride=1, padding=0, bias=False)\n",
    "tensor = d_conv1(tensor)\n",
    "d_batch_norm1 = nn.BatchNorm2d(num_features=(64 * 8))\n",
    "tensor = d_batch_norm1(tensor)\n",
    "tensor = F.relu(tensor)\n",
    "tensor.shape"
   ]
  },
  {
   "cell_type": "code",
   "execution_count": 212,
   "metadata": {},
   "outputs": [
    {
     "output_type": "execute_result",
     "data": {
      "text/plain": [
       "torch.Size([1, 256, 8, 8])"
      ]
     },
     "metadata": {},
     "execution_count": 212
    }
   ],
   "source": [
    "d_conv2 = nn.ConvTranspose2d(in_channels=(64 * 8), out_channels=(64 * 4), kernel_size=4, stride=2, padding=1, bias=False)\n",
    "tensor = d_conv2(tensor)\n",
    "d_batch_norm2 = nn.BatchNorm2d(num_features=(64 * 4))\n",
    "tensor = d_batch_norm2(tensor)\n",
    "tensor = F.relu(tensor)\n",
    "tensor.shape\n",
    "\n",
    "\n"
   ]
  },
  {
   "cell_type": "code",
   "execution_count": 213,
   "metadata": {},
   "outputs": [
    {
     "output_type": "execute_result",
     "data": {
      "text/plain": [
       "torch.Size([1, 128, 16, 16])"
      ]
     },
     "metadata": {},
     "execution_count": 213
    }
   ],
   "source": [
    "d_conv3 = nn.ConvTranspose2d(in_channels=(64 * 4), out_channels=(64 * 2), kernel_size=4, stride=2, padding=1, bias=False)\n",
    "tensor = d_conv3(tensor)\n",
    "d_batch_norm3 = nn.BatchNorm2d(num_features=(64 * 2))\n",
    "tensor = d_batch_norm3(tensor)\n",
    "tensor = F.relu(tensor)\n",
    "tensor.shape\n",
    "\n",
    "\n"
   ]
  },
  {
   "cell_type": "code",
   "execution_count": 214,
   "metadata": {},
   "outputs": [
    {
     "output_type": "execute_result",
     "data": {
      "text/plain": [
       "torch.Size([1, 64, 32, 32])"
      ]
     },
     "metadata": {},
     "execution_count": 214
    }
   ],
   "source": [
    "d_conv4 = nn.ConvTranspose2d(in_channels=(64 * 2), out_channels=(64 * 1), kernel_size=4, stride=2, padding=1, bias=False)\n",
    "tensor = d_conv4(tensor)\n",
    "d_batch_norm4 = nn.BatchNorm2d(num_features=(64 * 1))\n",
    "tensor = d_batch_norm4(tensor)\n",
    "tensor = F.relu(tensor)\n",
    "tensor.shape"
   ]
  },
  {
   "cell_type": "code",
   "execution_count": 215,
   "metadata": {},
   "outputs": [
    {
     "output_type": "execute_result",
     "data": {
      "text/plain": [
       "torch.Size([1, 3, 64, 64])"
      ]
     },
     "metadata": {},
     "execution_count": 215
    }
   ],
   "source": [
    "d_conv5 = nn.ConvTranspose2d(in_channels=(64 * 1), out_channels=3, kernel_size=4, stride=2, padding=1, bias=False)\n",
    "tensor = d_conv5(tensor)\n",
    "tensor = torch.tanh(tensor)\n",
    "tensor.shape"
   ]
  },
  {
   "cell_type": "code",
   "execution_count": 216,
   "metadata": {},
   "outputs": [
    {
     "output_type": "stream",
     "name": "stderr",
     "text": [
      "Clipping input data to the valid range for imshow with RGB data ([0..1] for floats or [0..255] for integers).\n"
     ]
    },
    {
     "output_type": "execute_result",
     "data": {
      "text/plain": [
       "<matplotlib.image.AxesImage at 0x7fadc2700a60>"
      ]
     },
     "metadata": {},
     "execution_count": 216
    },
    {
     "output_type": "display_data",
     "data": {
      "text/plain": "<Figure size 432x288 with 1 Axes>",
      "image/svg+xml": "<?xml version=\"1.0\" encoding=\"utf-8\" standalone=\"no\"?>\n<!DOCTYPE svg PUBLIC \"-//W3C//DTD SVG 1.1//EN\"\n  \"http://www.w3.org/Graphics/SVG/1.1/DTD/svg11.dtd\">\n<!-- Created with matplotlib (https://matplotlib.org/) -->\n<svg height=\"250.618594pt\" version=\"1.1\" viewBox=\"0 0 251.565 250.618594\" width=\"251.565pt\" xmlns=\"http://www.w3.org/2000/svg\" xmlns:xlink=\"http://www.w3.org/1999/xlink\">\n <metadata>\n  <rdf:RDF xmlns:cc=\"http://creativecommons.org/ns#\" xmlns:dc=\"http://purl.org/dc/elements/1.1/\" xmlns:rdf=\"http://www.w3.org/1999/02/22-rdf-syntax-ns#\">\n   <cc:Work>\n    <dc:type rdf:resource=\"http://purl.org/dc/dcmitype/StillImage\"/>\n    <dc:date>2021-05-05T22:32:12.581155</dc:date>\n    <dc:format>image/svg+xml</dc:format>\n    <dc:creator>\n     <cc:Agent>\n      <dc:title>Matplotlib v3.3.2, https://matplotlib.org/</dc:title>\n     </cc:Agent>\n    </dc:creator>\n   </cc:Work>\n  </rdf:RDF>\n </metadata>\n <defs>\n  <style type=\"text/css\">*{stroke-linecap:butt;stroke-linejoin:round;}</style>\n </defs>\n <g id=\"figure_1\">\n  <g id=\"patch_1\">\n   <path d=\"M 0 250.618594 \nL 251.565 250.618594 \nL 251.565 0 \nL 0 0 \nz\n\" style=\"fill:none;\"/>\n  </g>\n  <g id=\"axes_1\">\n   <g id=\"patch_2\">\n    <path d=\"M 26.925 226.740469 \nL 244.365 226.740469 \nL 244.365 9.300469 \nL 26.925 9.300469 \nz\n\" style=\"fill:#ffffff;\"/>\n   </g>\n   <g clip-path=\"url(#p0f26004831)\">\n    <image height=\"218\" id=\"image5f5ac14e42\" transform=\"scale(1 -1)translate(0 -218)\" width=\"218\" x=\"26.925\" xlink:href=\"data:image/png;base64,\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\" y=\"-8.740469\"/>\n   </g>\n   <g id=\"matplotlib.axis_1\">\n    <g id=\"xtick_1\">\n     <g id=\"line2d_1\">\n      <defs>\n       <path d=\"M 0 0 \nL 0 3.5 \n\" id=\"m651c2e8694\" style=\"stroke:#000000;stroke-width:0.8;\"/>\n      </defs>\n      <g>\n       <use style=\"stroke:#000000;stroke-width:0.8;\" x=\"28.62375\" xlink:href=\"#m651c2e8694\" y=\"226.740469\"/>\n      </g>\n     </g>\n     <g id=\"text_1\">\n      <!-- 0 -->\n      <g transform=\"translate(25.4425 241.338906)scale(0.1 -0.1)\">\n       <defs>\n        <path d=\"M 31.78125 66.40625 \nQ 24.171875 66.40625 20.328125 58.90625 \nQ 16.5 51.421875 16.5 36.375 \nQ 16.5 21.390625 20.328125 13.890625 \nQ 24.171875 6.390625 31.78125 6.390625 \nQ 39.453125 6.390625 43.28125 13.890625 \nQ 47.125 21.390625 47.125 36.375 \nQ 47.125 51.421875 43.28125 58.90625 \nQ 39.453125 66.40625 31.78125 66.40625 \nz\nM 31.78125 74.21875 \nQ 44.046875 74.21875 50.515625 64.515625 \nQ 56.984375 54.828125 56.984375 36.375 \nQ 56.984375 17.96875 50.515625 8.265625 \nQ 44.046875 -1.421875 31.78125 -1.421875 \nQ 19.53125 -1.421875 13.0625 8.265625 \nQ 6.59375 17.96875 6.59375 36.375 \nQ 6.59375 54.828125 13.0625 64.515625 \nQ 19.53125 74.21875 31.78125 74.21875 \nz\n\" id=\"DejaVuSans-48\"/>\n       </defs>\n       <use xlink:href=\"#DejaVuSans-48\"/>\n      </g>\n     </g>\n    </g>\n    <g id=\"xtick_2\">\n     <g id=\"line2d_2\">\n      <g>\n       <use style=\"stroke:#000000;stroke-width:0.8;\" x=\"62.59875\" xlink:href=\"#m651c2e8694\" y=\"226.740469\"/>\n      </g>\n     </g>\n     <g id=\"text_2\">\n      <!-- 10 -->\n      <g transform=\"translate(56.23625 241.338906)scale(0.1 -0.1)\">\n       <defs>\n        <path d=\"M 12.40625 8.296875 \nL 28.515625 8.296875 \nL 28.515625 63.921875 \nL 10.984375 60.40625 \nL 10.984375 69.390625 \nL 28.421875 72.90625 \nL 38.28125 72.90625 \nL 38.28125 8.296875 \nL 54.390625 8.296875 \nL 54.390625 0 \nL 12.40625 0 \nz\n\" id=\"DejaVuSans-49\"/>\n       </defs>\n       <use xlink:href=\"#DejaVuSans-49\"/>\n       <use x=\"63.623047\" xlink:href=\"#DejaVuSans-48\"/>\n      </g>\n     </g>\n    </g>\n    <g id=\"xtick_3\">\n     <g id=\"line2d_3\">\n      <g>\n       <use style=\"stroke:#000000;stroke-width:0.8;\" x=\"96.57375\" xlink:href=\"#m651c2e8694\" y=\"226.740469\"/>\n      </g>\n     </g>\n     <g id=\"text_3\">\n      <!-- 20 -->\n      <g transform=\"translate(90.21125 241.338906)scale(0.1 -0.1)\">\n       <defs>\n        <path d=\"M 19.1875 8.296875 \nL 53.609375 8.296875 \nL 53.609375 0 \nL 7.328125 0 \nL 7.328125 8.296875 \nQ 12.9375 14.109375 22.625 23.890625 \nQ 32.328125 33.6875 34.8125 36.53125 \nQ 39.546875 41.84375 41.421875 45.53125 \nQ 43.3125 49.21875 43.3125 52.78125 \nQ 43.3125 58.59375 39.234375 62.25 \nQ 35.15625 65.921875 28.609375 65.921875 \nQ 23.96875 65.921875 18.8125 64.3125 \nQ 13.671875 62.703125 7.8125 59.421875 \nL 7.8125 69.390625 \nQ 13.765625 71.78125 18.9375 73 \nQ 24.125 74.21875 28.421875 74.21875 \nQ 39.75 74.21875 46.484375 68.546875 \nQ 53.21875 62.890625 53.21875 53.421875 \nQ 53.21875 48.921875 51.53125 44.890625 \nQ 49.859375 40.875 45.40625 35.40625 \nQ 44.1875 33.984375 37.640625 27.21875 \nQ 31.109375 20.453125 19.1875 8.296875 \nz\n\" id=\"DejaVuSans-50\"/>\n       </defs>\n       <use xlink:href=\"#DejaVuSans-50\"/>\n       <use x=\"63.623047\" xlink:href=\"#DejaVuSans-48\"/>\n      </g>\n     </g>\n    </g>\n    <g id=\"xtick_4\">\n     <g id=\"line2d_4\">\n      <g>\n       <use style=\"stroke:#000000;stroke-width:0.8;\" x=\"130.54875\" xlink:href=\"#m651c2e8694\" y=\"226.740469\"/>\n      </g>\n     </g>\n     <g id=\"text_4\">\n      <!-- 30 -->\n      <g transform=\"translate(124.18625 241.338906)scale(0.1 -0.1)\">\n       <defs>\n        <path d=\"M 40.578125 39.3125 \nQ 47.65625 37.796875 51.625 33 \nQ 55.609375 28.21875 55.609375 21.1875 \nQ 55.609375 10.40625 48.1875 4.484375 \nQ 40.765625 -1.421875 27.09375 -1.421875 \nQ 22.515625 -1.421875 17.65625 -0.515625 \nQ 12.796875 0.390625 7.625 2.203125 \nL 7.625 11.71875 \nQ 11.71875 9.328125 16.59375 8.109375 \nQ 21.484375 6.890625 26.8125 6.890625 \nQ 36.078125 6.890625 40.9375 10.546875 \nQ 45.796875 14.203125 45.796875 21.1875 \nQ 45.796875 27.640625 41.28125 31.265625 \nQ 36.765625 34.90625 28.71875 34.90625 \nL 20.21875 34.90625 \nL 20.21875 43.015625 \nL 29.109375 43.015625 \nQ 36.375 43.015625 40.234375 45.921875 \nQ 44.09375 48.828125 44.09375 54.296875 \nQ 44.09375 59.90625 40.109375 62.90625 \nQ 36.140625 65.921875 28.71875 65.921875 \nQ 24.65625 65.921875 20.015625 65.03125 \nQ 15.375 64.15625 9.8125 62.3125 \nL 9.8125 71.09375 \nQ 15.4375 72.65625 20.34375 73.4375 \nQ 25.25 74.21875 29.59375 74.21875 \nQ 40.828125 74.21875 47.359375 69.109375 \nQ 53.90625 64.015625 53.90625 55.328125 \nQ 53.90625 49.265625 50.4375 45.09375 \nQ 46.96875 40.921875 40.578125 39.3125 \nz\n\" id=\"DejaVuSans-51\"/>\n       </defs>\n       <use xlink:href=\"#DejaVuSans-51\"/>\n       <use x=\"63.623047\" xlink:href=\"#DejaVuSans-48\"/>\n      </g>\n     </g>\n    </g>\n    <g id=\"xtick_5\">\n     <g id=\"line2d_5\">\n      <g>\n       <use style=\"stroke:#000000;stroke-width:0.8;\" x=\"164.52375\" xlink:href=\"#m651c2e8694\" y=\"226.740469\"/>\n      </g>\n     </g>\n     <g id=\"text_5\">\n      <!-- 40 -->\n      <g transform=\"translate(158.16125 241.338906)scale(0.1 -0.1)\">\n       <defs>\n        <path d=\"M 37.796875 64.3125 \nL 12.890625 25.390625 \nL 37.796875 25.390625 \nz\nM 35.203125 72.90625 \nL 47.609375 72.90625 \nL 47.609375 25.390625 \nL 58.015625 25.390625 \nL 58.015625 17.1875 \nL 47.609375 17.1875 \nL 47.609375 0 \nL 37.796875 0 \nL 37.796875 17.1875 \nL 4.890625 17.1875 \nL 4.890625 26.703125 \nz\n\" id=\"DejaVuSans-52\"/>\n       </defs>\n       <use xlink:href=\"#DejaVuSans-52\"/>\n       <use x=\"63.623047\" xlink:href=\"#DejaVuSans-48\"/>\n      </g>\n     </g>\n    </g>\n    <g id=\"xtick_6\">\n     <g id=\"line2d_6\">\n      <g>\n       <use style=\"stroke:#000000;stroke-width:0.8;\" x=\"198.49875\" xlink:href=\"#m651c2e8694\" y=\"226.740469\"/>\n      </g>\n     </g>\n     <g id=\"text_6\">\n      <!-- 50 -->\n      <g transform=\"translate(192.13625 241.338906)scale(0.1 -0.1)\">\n       <defs>\n        <path d=\"M 10.796875 72.90625 \nL 49.515625 72.90625 \nL 49.515625 64.59375 \nL 19.828125 64.59375 \nL 19.828125 46.734375 \nQ 21.96875 47.46875 24.109375 47.828125 \nQ 26.265625 48.1875 28.421875 48.1875 \nQ 40.625 48.1875 47.75 41.5 \nQ 54.890625 34.8125 54.890625 23.390625 \nQ 54.890625 11.625 47.5625 5.09375 \nQ 40.234375 -1.421875 26.90625 -1.421875 \nQ 22.3125 -1.421875 17.546875 -0.640625 \nQ 12.796875 0.140625 7.71875 1.703125 \nL 7.71875 11.625 \nQ 12.109375 9.234375 16.796875 8.0625 \nQ 21.484375 6.890625 26.703125 6.890625 \nQ 35.15625 6.890625 40.078125 11.328125 \nQ 45.015625 15.765625 45.015625 23.390625 \nQ 45.015625 31 40.078125 35.4375 \nQ 35.15625 39.890625 26.703125 39.890625 \nQ 22.75 39.890625 18.8125 39.015625 \nQ 14.890625 38.140625 10.796875 36.28125 \nz\n\" id=\"DejaVuSans-53\"/>\n       </defs>\n       <use xlink:href=\"#DejaVuSans-53\"/>\n       <use x=\"63.623047\" xlink:href=\"#DejaVuSans-48\"/>\n      </g>\n     </g>\n    </g>\n    <g id=\"xtick_7\">\n     <g id=\"line2d_7\">\n      <g>\n       <use style=\"stroke:#000000;stroke-width:0.8;\" x=\"232.47375\" xlink:href=\"#m651c2e8694\" y=\"226.740469\"/>\n      </g>\n     </g>\n     <g id=\"text_7\">\n      <!-- 60 -->\n      <g transform=\"translate(226.11125 241.338906)scale(0.1 -0.1)\">\n       <defs>\n        <path d=\"M 33.015625 40.375 \nQ 26.375 40.375 22.484375 35.828125 \nQ 18.609375 31.296875 18.609375 23.390625 \nQ 18.609375 15.53125 22.484375 10.953125 \nQ 26.375 6.390625 33.015625 6.390625 \nQ 39.65625 6.390625 43.53125 10.953125 \nQ 47.40625 15.53125 47.40625 23.390625 \nQ 47.40625 31.296875 43.53125 35.828125 \nQ 39.65625 40.375 33.015625 40.375 \nz\nM 52.59375 71.296875 \nL 52.59375 62.3125 \nQ 48.875 64.0625 45.09375 64.984375 \nQ 41.3125 65.921875 37.59375 65.921875 \nQ 27.828125 65.921875 22.671875 59.328125 \nQ 17.53125 52.734375 16.796875 39.40625 \nQ 19.671875 43.65625 24.015625 45.921875 \nQ 28.375 48.1875 33.59375 48.1875 \nQ 44.578125 48.1875 50.953125 41.515625 \nQ 57.328125 34.859375 57.328125 23.390625 \nQ 57.328125 12.15625 50.6875 5.359375 \nQ 44.046875 -1.421875 33.015625 -1.421875 \nQ 20.359375 -1.421875 13.671875 8.265625 \nQ 6.984375 17.96875 6.984375 36.375 \nQ 6.984375 53.65625 15.1875 63.9375 \nQ 23.390625 74.21875 37.203125 74.21875 \nQ 40.921875 74.21875 44.703125 73.484375 \nQ 48.484375 72.75 52.59375 71.296875 \nz\n\" id=\"DejaVuSans-54\"/>\n       </defs>\n       <use xlink:href=\"#DejaVuSans-54\"/>\n       <use x=\"63.623047\" xlink:href=\"#DejaVuSans-48\"/>\n      </g>\n     </g>\n    </g>\n   </g>\n   <g id=\"matplotlib.axis_2\">\n    <g id=\"ytick_1\">\n     <g id=\"line2d_8\">\n      <defs>\n       <path d=\"M 0 0 \nL -3.5 0 \n\" id=\"m58854b7bac\" style=\"stroke:#000000;stroke-width:0.8;\"/>\n      </defs>\n      <g>\n       <use style=\"stroke:#000000;stroke-width:0.8;\" x=\"26.925\" xlink:href=\"#m58854b7bac\" y=\"10.999219\"/>\n      </g>\n     </g>\n     <g id=\"text_8\">\n      <!-- 0 -->\n      <g transform=\"translate(13.5625 14.798437)scale(0.1 -0.1)\">\n       <use xlink:href=\"#DejaVuSans-48\"/>\n      </g>\n     </g>\n    </g>\n    <g id=\"ytick_2\">\n     <g id=\"line2d_9\">\n      <g>\n       <use style=\"stroke:#000000;stroke-width:0.8;\" x=\"26.925\" xlink:href=\"#m58854b7bac\" y=\"44.974219\"/>\n      </g>\n     </g>\n     <g id=\"text_9\">\n      <!-- 10 -->\n      <g transform=\"translate(7.2 48.773437)scale(0.1 -0.1)\">\n       <use xlink:href=\"#DejaVuSans-49\"/>\n       <use x=\"63.623047\" xlink:href=\"#DejaVuSans-48\"/>\n      </g>\n     </g>\n    </g>\n    <g id=\"ytick_3\">\n     <g id=\"line2d_10\">\n      <g>\n       <use style=\"stroke:#000000;stroke-width:0.8;\" x=\"26.925\" xlink:href=\"#m58854b7bac\" y=\"78.949219\"/>\n      </g>\n     </g>\n     <g id=\"text_10\">\n      <!-- 20 -->\n      <g transform=\"translate(7.2 82.748437)scale(0.1 -0.1)\">\n       <use xlink:href=\"#DejaVuSans-50\"/>\n       <use x=\"63.623047\" xlink:href=\"#DejaVuSans-48\"/>\n      </g>\n     </g>\n    </g>\n    <g id=\"ytick_4\">\n     <g id=\"line2d_11\">\n      <g>\n       <use style=\"stroke:#000000;stroke-width:0.8;\" x=\"26.925\" xlink:href=\"#m58854b7bac\" y=\"112.924219\"/>\n      </g>\n     </g>\n     <g id=\"text_11\">\n      <!-- 30 -->\n      <g transform=\"translate(7.2 116.723437)scale(0.1 -0.1)\">\n       <use xlink:href=\"#DejaVuSans-51\"/>\n       <use x=\"63.623047\" xlink:href=\"#DejaVuSans-48\"/>\n      </g>\n     </g>\n    </g>\n    <g id=\"ytick_5\">\n     <g id=\"line2d_12\">\n      <g>\n       <use style=\"stroke:#000000;stroke-width:0.8;\" x=\"26.925\" xlink:href=\"#m58854b7bac\" y=\"146.899219\"/>\n      </g>\n     </g>\n     <g id=\"text_12\">\n      <!-- 40 -->\n      <g transform=\"translate(7.2 150.698437)scale(0.1 -0.1)\">\n       <use xlink:href=\"#DejaVuSans-52\"/>\n       <use x=\"63.623047\" xlink:href=\"#DejaVuSans-48\"/>\n      </g>\n     </g>\n    </g>\n    <g id=\"ytick_6\">\n     <g id=\"line2d_13\">\n      <g>\n       <use style=\"stroke:#000000;stroke-width:0.8;\" x=\"26.925\" xlink:href=\"#m58854b7bac\" y=\"180.874219\"/>\n      </g>\n     </g>\n     <g id=\"text_13\">\n      <!-- 50 -->\n      <g transform=\"translate(7.2 184.673437)scale(0.1 -0.1)\">\n       <use xlink:href=\"#DejaVuSans-53\"/>\n       <use x=\"63.623047\" xlink:href=\"#DejaVuSans-48\"/>\n      </g>\n     </g>\n    </g>\n    <g id=\"ytick_7\">\n     <g id=\"line2d_14\">\n      <g>\n       <use style=\"stroke:#000000;stroke-width:0.8;\" x=\"26.925\" xlink:href=\"#m58854b7bac\" y=\"214.849219\"/>\n      </g>\n     </g>\n     <g id=\"text_14\">\n      <!-- 60 -->\n      <g transform=\"translate(7.2 218.648437)scale(0.1 -0.1)\">\n       <use xlink:href=\"#DejaVuSans-54\"/>\n       <use x=\"63.623047\" xlink:href=\"#DejaVuSans-48\"/>\n      </g>\n     </g>\n    </g>\n   </g>\n   <g id=\"patch_3\">\n    <path d=\"M 26.925 226.740469 \nL 26.925 9.300469 \n\" style=\"fill:none;stroke:#000000;stroke-linecap:square;stroke-linejoin:miter;stroke-width:0.8;\"/>\n   </g>\n   <g id=\"patch_4\">\n    <path d=\"M 244.365 226.740469 \nL 244.365 9.300469 \n\" style=\"fill:none;stroke:#000000;stroke-linecap:square;stroke-linejoin:miter;stroke-width:0.8;\"/>\n   </g>\n   <g id=\"patch_5\">\n    <path d=\"M 26.925 226.740469 \nL 244.365 226.740469 \n\" style=\"fill:none;stroke:#000000;stroke-linecap:square;stroke-linejoin:miter;stroke-width:0.8;\"/>\n   </g>\n   <g id=\"patch_6\">\n    <path d=\"M 26.925 9.300469 \nL 244.365 9.300469 \n\" style=\"fill:none;stroke:#000000;stroke-linecap:square;stroke-linejoin:miter;stroke-width:0.8;\"/>\n   </g>\n  </g>\n </g>\n <defs>\n  <clipPath id=\"p0f26004831\">\n   <rect height=\"217.44\" width=\"217.44\" x=\"26.925\" y=\"9.300469\"/>\n  </clipPath>\n </defs>\n</svg>\n",
      "image/png": "[encoded data removed]"
     },
     "metadata": {
      "needs_background": "light"
     }
    }
   ],
   "source": [
    "generated_image = tensor.squeeze(0).detach()\n",
    "\n",
    "plt.imshow(generated_image.permute(1, 2, 0).numpy())"
   ]
  },
  {
   "source": [
    "## Example\n",
    "\n"
   ],
   "cell_type": "markdown",
   "metadata": {}
  }
 ]
}